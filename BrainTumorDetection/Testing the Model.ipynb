{
 "cells": [
  {
   "cell_type": "code",
   "execution_count": 1,
   "id": "general-williams",
   "metadata": {},
   "outputs": [],
   "source": [
    "import joblib\n",
    "from matplotlib import pyplot as plt\n",
    "import cv2\n",
    "import os\n",
    "import numpy as np"
   ]
  },
  {
   "cell_type": "code",
   "execution_count": 2,
   "id": "traditional-skiing",
   "metadata": {},
   "outputs": [],
   "source": [
    "model=joblib.load('KMeansTumorDetect.sav')\n",
    "tumorlabel=4"
   ]
  },
  {
   "cell_type": "code",
   "execution_count": 65,
   "id": "asian-position",
   "metadata": {},
   "outputs": [
    {
     "data": {
      "text/plain": [
       "\"\\nimage_path='test_images/0 (1180).jpg'\\n\\nprint(image_path)\\nimg_Original=cv2.imread(image_path,0)\\nheight,width=img_Original.shape\\nFlatternedImg=img_Original.reshape(height*width,1)\\n    \\nlabels=model.predict(FlatternedImg)\\nlables2D=labels.reshape(height,width)\\n\\nif 4 in lables2D:\\n    print('Ahe')\\n\\nmask=(lables2D==tumorlabel)\\n\\ntumor_extracted=np.array((mask*255),dtype=np.uint8)#converting the binary array into a opencv supported image\\nprint(tumorExtracted)\\n\\nkernel = np.ones((5,5), np.uint8) \\ntumorExtracted = cv2.erode(tumor_extracted, kernel, iterations=1) \\n\\n\\nplt.imshow(tumor_extracted,cmap='gray')\\n\""
      ]
     },
     "execution_count": 65,
     "metadata": {},
     "output_type": "execute_result"
    }
   ],
   "source": [
    "#FOR SINGLE IMAGE\n",
    "'''\n",
    "image_path='test_images/0 (1180).jpg'\n",
    "\n",
    "print(image_path)\n",
    "img_Original=cv2.imread(image_path,0)\n",
    "height,width=img_Original.shape\n",
    "FlatternedImg=img_Original.reshape(height*width,1)\n",
    "    \n",
    "labels=model.predict(FlatternedImg)\n",
    "lables2D=labels.reshape(height,width)\n",
    "\n",
    "if 4 in lables2D:\n",
    "    print('Ahe')\n",
    "\n",
    "mask=(lables2D==tumorlabel)\n",
    "\n",
    "tumor_extracted=np.array((mask*255),dtype=np.uint8)#converting the binary array into a opencv supported image\n",
    "print(tumorExtracted)\n",
    "\n",
    "kernel = np.ones((5,5), np.uint8) \n",
    "tumorExtracted = cv2.erode(tumor_extracted, kernel, iterations=1) \n",
    "\n",
    "\n",
    "plt.imshow(tumor_extracted,cmap='gray')\n",
    "'''\n"
   ]
  },
  {
   "cell_type": "code",
   "execution_count": 7,
   "id": "genuine-luxembourg",
   "metadata": {},
   "outputs": [
    {
     "name": "stdout",
     "output_type": "stream",
     "text": [
      "no. contours: 104\n",
      "no. contours: 155\n",
      "no. contours: 133\n",
      "no. contours: 137\n",
      "no. contours: 141\n",
      "no. contours: 129\n",
      "no. contours: 120\n",
      "no. contours: 125\n",
      "no. contours: 126\n",
      "no. contours: 88\n",
      "no. contours: 85\n",
      "no. contours: 29\n",
      "no. contours: 67\n",
      "no. contours: 0\n"
     ]
    }
   ],
   "source": [
    "\n",
    "image_names=os.listdir('test_images')\n",
    "\n",
    "for img in image_names:\n",
    "    \n",
    "    img_path=os.path.join('test_images',img)\n",
    "    img_Original=cv2.imread(img_path,0)\n",
    "    height,width=img_Original.shape\n",
    "    FlatternedImg=img_Original.reshape(height*width,1)\n",
    "    \n",
    "    labels=model.predict(FlatternedImg)\n",
    "    lables2D=labels.reshape(height,width)\n",
    "    \n",
    "    mask=(lables2D==tumorlabel) # returns only tumore pixels in the form of boolean array\n",
    "    \n",
    "    tumor_extracted=np.array((mask*255),dtype=np.uint8)#converting the binary array into a opencv supported image\n",
    "\n",
    "\n",
    "    kernel = np.ones((5,5), np.uint8) \n",
    "    tumor_extracted = cv2.erode(tumor_extracted, kernel, iterations=1) \n",
    "    contours, hierarchy = cv2.findContours(tumor_extracted, cv2.RETR_TREE,cv2.CHAIN_APPROX_SIMPLE)\n",
    "    print('no. contours:',len(contours))\n",
    "   \n",
    "    for cnt in contours:\n",
    "        area=cv2.contourArea(cnt)\n",
    "        if area>1000:\n",
    "            cv2.drawContours(img_Original, [cnt], -1, (0,255,255), 3)\n",
    "            x,y,w,h = cv2.boundingRect(cnt)\n",
    "            cv2.rectangle(img_Original,(x,y),(x+w,y+h),(0,255,0),2)\n",
    "            cv2.rectangle(img_Original,(x,y),(x+120,y-40),(0,255,0),-1)\n",
    "            cv2.putText(img_Original,\"TUMOR\",(x+10,y-10),cv2.FONT_HERSHEY_SIMPLEX,1,(255,255,255),2)\n",
    "    cv2.imshow('LIVE',img_Original)\n",
    "    cv2.waitKey(2000)\n",
    "    cv2.destroyAllWindows()\n",
    "        \n",
    "    \n",
    "\n"
   ]
  },
  {
   "cell_type": "code",
   "execution_count": null,
   "id": "dried-guard",
   "metadata": {},
   "outputs": [],
   "source": []
  },
  {
   "cell_type": "code",
   "execution_count": null,
   "id": "bright-virginia",
   "metadata": {},
   "outputs": [],
   "source": []
  }
 ],
 "metadata": {
  "kernelspec": {
   "display_name": "Python 3",
   "language": "python",
   "name": "python3"
  },
  "language_info": {
   "codemirror_mode": {
    "name": "ipython",
    "version": 3
   },
   "file_extension": ".py",
   "mimetype": "text/x-python",
   "name": "python",
   "nbconvert_exporter": "python",
   "pygments_lexer": "ipython3",
   "version": "3.8.5"
  }
 },
 "nbformat": 4,
 "nbformat_minor": 5
}
