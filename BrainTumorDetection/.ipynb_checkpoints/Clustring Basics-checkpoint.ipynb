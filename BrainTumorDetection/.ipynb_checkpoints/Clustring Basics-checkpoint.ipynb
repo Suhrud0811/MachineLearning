{
 "cells": [
  {
   "cell_type": "code",
   "execution_count": 13,
   "id": "figured-developer",
   "metadata": {},
   "outputs": [],
   "source": [
    "import pandas as pd\n",
    "import numpy as np\n",
    "from matplotlib import pyplot as plt"
   ]
  },
  {
   "cell_type": "code",
   "execution_count": 46,
   "id": "accessory-harvest",
   "metadata": {},
   "outputs": [
    {
     "name": "stdout",
     "output_type": "stream",
     "text": [
      "60\n"
     ]
    }
   ],
   "source": [
    "data=pd.read_csv(\"rain-dataset.csv\").values\n",
    "\n",
    "dataset=data[:,:2]\n"
   ]
  },
  {
   "cell_type": "code",
   "execution_count": 16,
   "id": "greatest-multimedia",
   "metadata": {},
   "outputs": [
    {
     "data": {
      "image/png": "[encoded data removed]",
      "text/plain": [
       "<Figure size 432x288 with 1 Axes>"
      ]
     },
     "metadata": {
      "needs_background": "light"
     },
     "output_type": "display_data"
    }
   ],
   "source": [
    "plt.scatter(dataset[:,0],dataset[:,1])\n",
    "plt.show()\n",
    "\n"
   ]
  },
  {
   "cell_type": "code",
   "execution_count": 22,
   "id": "consolidated-sugar",
   "metadata": {},
   "outputs": [],
   "source": [
    "from sklearn.cluster import KMeans"
   ]
  },
  {
   "cell_type": "code",
   "execution_count": 23,
   "id": "identified-semiconductor",
   "metadata": {},
   "outputs": [],
   "source": [
    "model=KMeans(n_clusters=2)"
   ]
  },
  {
   "cell_type": "code",
   "execution_count": 40,
   "id": "unauthorized-cherry",
   "metadata": {},
   "outputs": [],
   "source": [
    "model.fit(dataset)\n",
    "labels=model.labels_"
   ]
  },
  {
   "cell_type": "code",
   "execution_count": 41,
   "id": "colored-handling",
   "metadata": {},
   "outputs": [
    {
     "data": {
      "image/png": "[encoded data removed]",
      "text/plain": [
       "<Figure size 432x288 with 1 Axes>"
      ]
     },
     "metadata": {
      "needs_background": "light"
     },
     "output_type": "display_data"
    }
   ],
   "source": [
    "#print(model.predict([[25,70]]))\n",
    "for i in range(len(dataset)):\n",
    "    if labels[i]==0:\n",
    "        plt.scatter(data[i,0],data[i,1],c='b')\n",
    "    else:\n",
    "        plt.scatter(data[i,0],data[i,1],c='r')\n",
    "        "
   ]
  },
  {
   "cell_type": "code",
   "execution_count": 36,
   "id": "boring-escape",
   "metadata": {},
   "outputs": [
    {
     "name": "stdout",
     "output_type": "stream",
     "text": [
      "Cluster centers [[31.5        59.66666667]\n",
      " [28.57142857 82.42857143]]\n"
     ]
    }
   ],
   "source": [
    "print('Cluster centers',model.cluster_centers_)"
   ]
  },
  {
   "cell_type": "markdown",
   "id": "minimal-worcester",
   "metadata": {},
   "source": [
    "# For 3 clusters"
   ]
  },
  {
   "cell_type": "code",
   "execution_count": 42,
   "id": "secret-double",
   "metadata": {},
   "outputs": [],
   "source": [
    "model=KMeans(n_clusters=3)\n",
    "model.fit(data)\n",
    "labels=model.labels_\n",
    "\n"
   ]
  },
  {
   "cell_type": "code",
   "execution_count": 44,
   "id": "wrapped-video",
   "metadata": {},
   "outputs": [
    {
     "data": {
      "image/png": "[encoded data removed]",
      "text/plain": [
       "<Figure size 432x288 with 1 Axes>"
      ]
     },
     "metadata": {
      "needs_background": "light"
     },
     "output_type": "display_data"
    }
   ],
   "source": [
    "for i in range(len(data)):\n",
    "    if labels[i]==0:\n",
    "        plt.scatter(data[i,0],data[i,1],c=\"b\")\n",
    "    elif labels[i]==1:\n",
    "        plt.scatter(data[i,0],data[i,1],c='r')\n",
    "    else:\n",
    "        plt.scatter(data[i,0],data[i,1],c='g')"
   ]
  },
  {
   "cell_type": "code",
   "execution_count": 48,
   "id": "billion-aaron",
   "metadata": {},
   "outputs": [
    {
     "name": "stdout",
     "output_type": "stream",
     "text": [
      "[[29.75 56.25  0.5 ]\n",
      " [27.75 87.5   0.75]\n",
      " [31.8  72.    0.2 ]]\n"
     ]
    }
   ],
   "source": [
    "print(model.cluster_centers_)"
   ]
  },
  {
   "cell_type": "code",
   "execution_count": null,
   "id": "professional-cause",
   "metadata": {},
   "outputs": [],
   "source": []
  }
 ],
 "metadata": {
  "kernelspec": {
   "display_name": "Python 3",
   "language": "python",
   "name": "python3"
  },
  "language_info": {
   "codemirror_mode": {
    "name": "ipython",
    "version": 3
   },
   "file_extension": ".py",
   "mimetype": "text/x-python",
   "name": "python",
   "nbconvert_exporter": "python",
   "pygments_lexer": "ipython3",
   "version": "3.8.5"
  }
 },
 "nbformat": 4,
 "nbformat_minor": 5
}
